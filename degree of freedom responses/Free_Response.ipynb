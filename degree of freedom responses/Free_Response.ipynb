{
 "cells": [
  {
   "cell_type": "code",
   "execution_count": 1,
   "metadata": {},
   "outputs": [],
   "source": [
    "# import all library that i'm used\n",
    "import matplotlib.pyplot as plt\n",
    "import numpy as np\n"
   ]
  },
  {
   "cell_type": "code",
   "execution_count": 2,
   "metadata": {},
   "outputs": [],
   "source": [
    "#Allow the user to entre values\n",
    "m = float(input('Enter the mass = '))\n",
    "c = float(input('Enter the damping coefficient = '))\n",
    "k = float(input('Enter the stiffness = '))\n",
    "x0 = float(input('Enter the initial dispalcement] = '))\n",
    "v0 = float(input('Enter the initial velocity = '))\n",
    "Max_time = float(input('Enter the max time  = '))\n",
    "\n"
   ]
  },
  {
   "cell_type": "code",
   "execution_count": 3,
   "metadata": {},
   "outputs": [
    {
     "name": "stdout",
     "output_type": "stream",
     "text": [
      "The natural frequency is  0.06741998624632421 rad/s.\n",
      "The damping ratio is  16.854996561581054\n",
      "The damped natural frequency is  nan\n"
     ]
    },
    {
     "name": "stderr",
     "output_type": "stream",
     "text": [
      "C:\\Users\\Soft Key\\AppData\\Local\\Temp\\ipykernel_15144\\3931481353.py:5: RuntimeWarning: invalid value encountered in sqrt\n",
      "  wd = w * np.sqrt(1 - (zeta**2))  # (1.37)\n"
     ]
    }
   ],
   "source": [
    "# Doing some calculation\n",
    " \n",
    "w = np.sqrt(k / m)\n",
    "zeta = c / (2 * w * m)  # (1.30)\n",
    "wd = w * np.sqrt(1 - (zeta**2))  # (1.37)\n",
    "t = np.linspace(0, Max_time, int(250 * Max_time))\n",
    "\n",
    "print('The natural frequency is ', w, 'rad/s.')\n",
    "print('The damping ratio is ', zeta)\n",
    "print('The damped natural frequency is ', wd)"
   ]
  },
  {
   "cell_type": "code",
   "execution_count": 4,
   "metadata": {},
   "outputs": [
    {
     "name": "stdout",
     "output_type": "stream",
     "text": [
      "a1=  -2.6481880227320014\n",
      "a2=  6.648188022732002\n",
      "this system is overdamped\n",
      "[4.         4.02390167 4.04758665 ... 6.52959221 6.5295399  6.5294876 ]\n"
     ]
    }
   ],
   "source": [
    "if zeta == 0:\n",
    "    A = np.sqrt(((x0)**2 + (v0)**2) / w**2)  # (1.38)\n",
    "    phi = np.arctan2(x0 * w, v0)  # (1.38)\n",
    "    x = A * np.sin(w * t + phi)  # (1.36)\n",
    "    print('A =', A)\n",
    "    print('phi =', phi)\n",
    "    print ('this system is undamped')\n",
    "    print(x)\n",
    "\n",
    "      \n",
    "elif zeta < 1:\n",
    "    A = np.sqrt(((v0 + zeta * w * x0)**2 + (x0 * wd)**2) / wd**2)  # (1.38)\n",
    "    phi = np.arctan2(x0 * wd, v0 + zeta * w * x0)  # (1.38)\n",
    "    x = A * np.exp(-zeta * w * t) * np.sin(wd * t + phi)  # (1.36)\n",
    "    print('A =', A)\n",
    "    print('phi =', phi)\n",
    "    print ('this system is underdamped')\n",
    "    print(x)\n",
    "\n",
    "\n",
    "elif zeta == 1:\n",
    "    a1 = x0  # (1.46)\n",
    "    a2 = v0 + w * x0  # (1.46)\n",
    "    print('a1= ', a1)\n",
    "    print('a2= ', a2)\n",
    "    x = (a1 + a2 * t) * np.exp(-w * t)  # (1.45)\n",
    "    print ('this system is critically damped')\n",
    "    print(x)\n",
    "\n",
    "else:\n",
    "    a1 = (-v0 + (-zeta + np.sqrt(zeta**2 - 1)) * w * x0) / \\\n",
    "        (2 * w * np.sqrt(zeta**2 - 1))  # (1.42)\n",
    "    a2 = (v0 + (zeta + np.sqrt(zeta**2 - 1)) * w * x0) / \\\n",
    "        (2 * w * np.sqrt(zeta**2 - 1))  # (1.43)\n",
    "    print('a1= ', a1)\n",
    "    print('a2= ', a2)\n",
    "    x = (np.exp(-zeta * w * t)\n",
    "         * (a1 * np.exp(-w * np.sqrt(zeta**2 - 1) * t)\n",
    "         + a2 * np.exp(w * np.sqrt(zeta**2 - 1) * t)))  # (1.41)\n",
    "    print ('this system is overdamped')\n",
    "    print(x)\n"
   ]
  },
  {
   "cell_type": "code",
   "execution_count": 5,
   "metadata": {},
   "outputs": [
    {
     "data": {
      "image/png": "[encoded data removed]",
      "text/plain": [
       "<Figure size 432x288 with 1 Axes>"
      ]
     },
     "metadata": {
      "needs_background": "light"
     },
     "output_type": "display_data"
    }
   ],
   "source": [
    "    plt.plot(t,x,'r-',linewidth=3,label='Step Input')\n",
    "    plt.legend()\n",
    "    plt.ylabel('Process Input')\n",
    "\n",
    "    plt.xlabel('Time')\n",
    "    plt.show()"
   ]
  },
  {
   "cell_type": "code",
   "execution_count": null,
   "metadata": {},
   "outputs": [],
   "source": []
  }
 ],
 "metadata": {
  "interpreter": {
   "hash": "006b3fa605611148c64f26b0a5799dd7f6508efbcab95668288a47ebc5b5ac1c"
  },
  "kernelspec": {
   "display_name": "Python 3.10.2 64-bit",
   "language": "python",
   "name": "python3"
  },
  "language_info": {
   "codemirror_mode": {
    "name": "ipython",
    "version": 3
   },
   "file_extension": ".py",
   "mimetype": "text/x-python",
   "name": "python",
   "nbconvert_exporter": "python",
   "pygments_lexer": "ipython3",
   "version": "3.10.2"
  },
  "orig_nbformat": 4
 },
 "nbformat": 4,
 "nbformat_minor": 2
}
